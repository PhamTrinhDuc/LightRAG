{
 "cells": [
  {
   "cell_type": "code",
   "execution_count": null,
   "metadata": {},
   "outputs": [],
   "source": []
  },
  {
   "cell_type": "code",
   "execution_count": 1,
   "metadata": {},
   "outputs": [
    {
     "name": "stdout",
     "output_type": "stream",
     "text": [
      "/home/ducpham/Documents/LightRAG\n"
     ]
    }
   ],
   "source": [
    "%cd /home/ducpham/Documents/LightRAG\n",
    "# move to project"
   ]
  },
  {
   "cell_type": "code",
   "execution_count": 2,
   "metadata": {},
   "outputs": [
    {
     "name": "stdout",
     "output_type": "stream",
     "text": [
      "Key: log_level  -> Value: 0\n",
      "Key: storage_classes  -> Value: {'JsonKVStorage': <class 'lightrag.kvstore.json_kv.JsonKVStorage'>, 'NanoVectorDBStorage': <class 'lightrag.vectorstore.nano.NanoVectorStorage'>, 'NetworkXStorage': <class 'lightrag.graphstore.networkx.NetworkXStorage'>}\n",
      "Key: working_dir  -> Value: my_working\n",
      "Key: chunk_token_size  -> Value: 1200\n",
      "Key: chunk_overlap_token_size  -> Value: 200\n",
      "Key: tiktoken_model_name  -> Value: gpt-4o-mini\n",
      "Key: entity_extract_max_gleaning  -> Value: 1\n",
      "Key: entity_summary_to_max_token  -> Value: 500\n",
      "Key: node_embedding_algorithm  -> Value: node2vec\n",
      "Key: node2vec_params  -> Value: {'dimentions': 1536, 'num_walks': 10, 'walk_length': 10, 'windown_size': 2, 'iterations': 3, 'random_seed': 3}\n",
      "Key: embedding_func  -> Value: {'embedding_dim': 1536, 'max_token': 8192, 'func': <function openai_embedding at 0x7584600e8900>, 'concurrent_limit': 16}\n",
      "Key: embedding_batch_num  -> Value: 32\n",
      "Key: embedding_func_max_async  -> Value: 16\n",
      "Key: llm_model_func  -> Value: <function openai_complete_if_cache at 0x7584600acc20>\n",
      "Key: llm_model_name  -> Value: meta-llama/Llama-3.2-1B-Instruct\n",
      "Key: llm_model_max_token_size  -> Value: 32768\n",
      "Key: llm_model_max_async  -> Value: 16\n",
      "Key: llm_model_kwargs  -> Value: {}\n",
      "Key: vector_db_storage_cls_kwargs  -> Value: {}\n",
      "Key: enable_llm_cache  -> Value: True\n",
      "Key: addon_params  -> Value: {}\n",
      "Key: convert_response_to_json  -> Value: <function convert_response_to_json at 0x758505abea20>\n"
     ]
    }
   ],
   "source": [
    "# init global config for classes \n",
    "\n",
    "from config import ConfigParams\n",
    "from dataclasses import asdict\n",
    "\n",
    "config = asdict(ConfigParams())\n",
    "for k, v in config.items():\n",
    "    print(f\"Key: {k}  -> Value: {v}\")"
   ]
  },
  {
   "cell_type": "code",
   "execution_count": 3,
   "metadata": {},
   "outputs": [],
   "source": [
    "import json\n",
    "\n",
    "with open(\"./testing/data/entity.json\", mode='r') as f:\n",
    "    all_entities_data = json.load(f)"
   ]
  },
  {
   "cell_type": "code",
   "execution_count": 4,
   "metadata": {},
   "outputs": [
    {
     "data": {
      "text/plain": [
       "{'node_id': 'Mikasa',\n",
       " 'node_data': {'entity_type': 'person',\n",
       "  'entity_desc': 'Mikasa là bạn của Eren và Armin, cậu được nhận nuôi bời gia đình của Eren',\n",
       "  'entity_source_id': '2'}}"
      ]
     },
     "execution_count": 4,
     "metadata": {},
     "output_type": "execute_result"
    }
   ],
   "source": [
    "all_entities_data[1]"
   ]
  },
  {
   "cell_type": "code",
   "execution_count": 5,
   "metadata": {},
   "outputs": [
    {
     "name": "stderr",
     "output_type": "stream",
     "text": [
      "INFO:nano-vectordb:Load (2, 1536) data\n",
      "INFO:nano-vectordb:Init {'embedding_dim': 1536, 'metric': 'cosine', 'storage_file': 'my_working/vdb_Test_LightRAG.db'} 2 data\n"
     ]
    }
   ],
   "source": [
    "from lightrag.vectorstore import NanoVectorStorage\n",
    "from lightrag.embeddings import openai_embedding\n",
    "from lightrag.utils import compute_mdhash_id\n",
    "from dataclasses import field\n",
    "\n",
    "\n",
    "entity_vdb = NanoVectorStorage(\n",
    "    namespace=\"Test_LightRAG\",\n",
    "    global_config=config,\n",
    "    embedding_func=openai_embedding,\n",
    "    meta_fields={\"entity_name\"}\n",
    ")\n"
   ]
  },
  {
   "cell_type": "code",
   "execution_count": 6,
   "metadata": {},
   "outputs": [
    {
     "name": "stderr",
     "output_type": "stream",
     "text": [
      "INFO:lightrag:Inserting 2 vectors to Test_LightRAG\n",
      "Generating vector embeddings:   0%|          | 0/1 [00:00<?, ?batch/s]INFO:httpx:HTTP Request: POST https://api.openai.com/v1/embeddings \"HTTP/1.1 200 OK\"\n",
      "Generating vector embeddings: 100%|██████████| 1/1 [00:00<00:00,  1.23batch/s]\n"
     ]
    }
   ],
   "source": [
    "\n",
    "all_entities_data = [\n",
    "    {\n",
    "        \"entity_name\": \"Eren\", \n",
    "        \"entity_desc\": \"Eren Yeager là nhân vật chính, có khả năng biến thành Titan\"\n",
    "    },\n",
    "    {\n",
    "        \"entity_name\": \"Mikasa\",\n",
    "        \"entity_desc\": \"Mikasa là bạn của Eren và Armin, cậu được nhận nuôi bời gia đình của Eren\"\n",
    "    }\n",
    "]\n",
    "\n",
    "if entity_vdb is not None: # for entity\n",
    "    data_for_vdb = {\n",
    "        compute_mdhash_id(content=dp['entity_name'], prefix=\"ent-\"): {\n",
    "            \"entity_name\": dp['entity_name'],\n",
    "            \"content\": dp['entity_name'] + dp['entity_desc']\n",
    "        }\n",
    "        for dp in all_entities_data\n",
    "    }\n",
    "    await entity_vdb.upsert(data=data_for_vdb)\n",
    "\n"
   ]
  },
  {
   "cell_type": "code",
   "execution_count": 7,
   "metadata": {},
   "outputs": [],
   "source": [
    "await entity_vdb.index_done_callback()"
   ]
  },
  {
   "cell_type": "code",
   "execution_count": 8,
   "metadata": {},
   "outputs": [
    {
     "data": {
      "text/plain": [
       "[{'__id__': 'ent-44448f65f1126a30f11b0b7c9809fdb9', 'entity_name': 'Eren'}]"
      ]
     },
     "execution_count": 8,
     "metadata": {},
     "output_type": "execute_result"
    }
   ],
   "source": [
    "entity_vdb._client.get(compute_mdhash_id(\"Eren\", prefix=\"ent-\"))"
   ]
  },
  {
   "cell_type": "code",
   "execution_count": null,
   "metadata": {},
   "outputs": [],
   "source": []
  }
 ],
 "metadata": {
  "kernelspec": {
   "display_name": "base",
   "language": "python",
   "name": "python3"
  },
  "language_info": {
   "codemirror_mode": {
    "name": "ipython",
    "version": 3
   },
   "file_extension": ".py",
   "mimetype": "text/x-python",
   "name": "python",
   "nbconvert_exporter": "python",
   "pygments_lexer": "ipython3",
   "version": "3.11.7"
  }
 },
 "nbformat": 4,
 "nbformat_minor": 2
}
