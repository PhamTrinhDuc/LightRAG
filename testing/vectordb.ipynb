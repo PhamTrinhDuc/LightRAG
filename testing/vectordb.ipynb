{
 "cells": [
  {
   "cell_type": "code",
   "execution_count": null,
   "metadata": {},
   "outputs": [],
   "source": []
  },
  {
   "cell_type": "code",
   "execution_count": 1,
   "metadata": {},
   "outputs": [
    {
     "name": "stdout",
     "output_type": "stream",
     "text": [
      "/home/ducpham/Documents/LightRAG\n"
     ]
    }
   ],
   "source": [
    "%cd /home/ducpham/Documents/LightRAG\n",
    "# move to project"
   ]
  },
  {
   "cell_type": "code",
   "execution_count": 2,
   "metadata": {},
   "outputs": [
    {
     "name": "stdout",
     "output_type": "stream",
     "text": [
      "Key: log_level  -> Value: 0\n",
      "Key: storage_classes  -> Value: {'JsonKVStorage': <class 'lightrag.kvstore.json_kv.JsonKVStorage'>, 'NanoVectorDBStorage': <class 'lightrag.vectorstore.nano.NanoVectorStorage'>, 'NetworkXStorage': <class 'lightrag.graphstore.networkx.NetworkXStorage'>}\n",
      "Key: working_dir  -> Value: ./lightrag_cache_2024-12-19-12:59:49\n",
      "Key: chunk_token_size  -> Value: 1200\n",
      "Key: chunk_overlap_token_size  -> Value: 200\n",
      "Key: tiktoken_model_name  -> Value: gpt-4o-mini\n",
      "Key: entity_extract_max_gleaning  -> Value: 1\n",
      "Key: entity_summary_to_max_token  -> Value: 500\n",
      "Key: node_embedding_algorithm  -> Value: node2vec\n",
      "Key: node2vec_params  -> Value: {'dimentions': 1536, 'num_walks': 10, 'walk_length': 10, 'windown_size': 2, 'iterations': 3, 'random_seed': 3}\n",
      "Key: embedding_func  -> Value: {'embedding_dim': 1536, 'max_token': 8192, 'func': <function openai_embedding at 0x7aeaf22e53a0>, 'concurrent_limit': 16}\n",
      "Key: embedding_batch_num  -> Value: 32\n",
      "Key: embedding_func_max_async  -> Value: 16\n",
      "Key: llm_model_func  -> Value: <function openai_complete_if_cache at 0x7aeaf22b16c0>\n",
      "Key: llm_model_name  -> Value: meta-llama/Llama-3.2-1B-Instruct\n",
      "Key: llm_model_max_token_size  -> Value: 32768\n",
      "Key: llm_model_max_async  -> Value: 16\n",
      "Key: llm_model_kwargs  -> Value: {}\n",
      "Key: vector_db_storage_cls_kwargs  -> Value: {}\n",
      "Key: enable_llm_cache  -> Value: True\n",
      "Key: addon_params  -> Value: {}\n",
      "Key: convert_response_to_json  -> Value: <function convert_response_to_json at 0x7aeb8cb83240>\n"
     ]
    }
   ],
   "source": [
    "# init global config for classes \n",
    "\n",
    "from config import ConfigParams\n",
    "from dataclasses import asdict\n",
    "\n",
    "config = asdict(ConfigParams())\n",
    "for k, v in config.items():\n",
    "    print(f\"Key: {k}  -> Value: {v}\")"
   ]
  },
  {
   "cell_type": "code",
   "execution_count": 28,
   "metadata": {},
   "outputs": [],
   "source": [
    "import json\n",
    "\n",
    "with open(\"./testing/data/entity.json\", mode='r') as f:\n",
    "    all_entities_data = json.load(f)"
   ]
  },
  {
   "cell_type": "code",
   "execution_count": 29,
   "metadata": {},
   "outputs": [
    {
     "data": {
      "text/plain": [
       "{'node_id': 'Eren',\n",
       " 'node_data': {'entity_type': 'person',\n",
       "  'entity_desc': 'Eren Yeager là nhân vật chính, có khả năng biến thành Titan',\n",
       "  'entity_source_id': '1'}}"
      ]
     },
     "execution_count": 29,
     "metadata": {},
     "output_type": "execute_result"
    }
   ],
   "source": [
    "all_entities_data[0]"
   ]
  },
  {
   "cell_type": "code",
   "execution_count": 21,
   "metadata": {},
   "outputs": [
    {
     "name": "stderr",
     "output_type": "stream",
     "text": [
      "INFO:nano-vectordb:Init {'embedding_dim': 1536, 'metric': 'cosine', 'storage_file': './lightrag_cache_2024-12-19-12:59:49/vdb_Test_LightRAG.db'} 0 data\n"
     ]
    }
   ],
   "source": [
    "from lightrag.vectorstore import NanoVectorStorage\n",
    "from lightrag.embeddings import openai_embedding\n",
    "from lightrag.utils import compute_mdhash_id\n",
    "from dataclasses import field\n",
    "\n",
    "\n",
    "entity_vdb = NanoVectorStorage(\n",
    "    namespace=\"Test_LightRAG\",\n",
    "    global_config=config,\n",
    "    embedding_func=openai_embedding,\n",
    "    meta_fields={\"entity_name\"}\n",
    ")\n",
    "\n",
    "\n",
    "if entity_vdb is not None: # for entity\n",
    "        data_for_vdb = {\n",
    "            compute_mdhash_id(content=dp['entity_name'], prefix=\"ent-\"): {\n",
    "                \"entity_name\": dp['entity_name'],\n",
    "                \"content\": dp['entity_name'] + dp['entity_desc']\n",
    "            }\n",
    "            for dp in all_entities_data\n",
    "        }\n",
    "        await entity_vdb.upsert(data=data_for_vdb)\n",
    "\n"
   ]
  },
  {
   "cell_type": "code",
   "execution_count": null,
   "metadata": {},
   "outputs": [],
   "source": []
  },
  {
   "cell_type": "code",
   "execution_count": null,
   "metadata": {},
   "outputs": [],
   "source": []
  }
 ],
 "metadata": {
  "kernelspec": {
   "display_name": "base",
   "language": "python",
   "name": "python3"
  },
  "language_info": {
   "codemirror_mode": {
    "name": "ipython",
    "version": 3
   },
   "file_extension": ".py",
   "mimetype": "text/x-python",
   "name": "python",
   "nbconvert_exporter": "python",
   "pygments_lexer": "ipython3",
   "version": "3.11.7"
  }
 },
 "nbformat": 4,
 "nbformat_minor": 2
}
