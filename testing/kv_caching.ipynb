{
 "cells": [
  {
   "cell_type": "code",
   "execution_count": null,
   "metadata": {},
   "outputs": [],
   "source": []
  },
  {
   "cell_type": "code",
   "execution_count": 1,
   "metadata": {},
   "outputs": [
    {
     "name": "stdout",
     "output_type": "stream",
     "text": [
      "/home/ducpham/Documents/LightRAG\n"
     ]
    }
   ],
   "source": [
    "%cd /home/ducpham/Documents/LightRAG\n",
    "# move to project"
   ]
  },
  {
   "cell_type": "code",
   "execution_count": null,
   "metadata": {},
   "outputs": [],
   "source": [
    "# init global config for classes \n",
    "\n",
    "from config import ConfigParams\n",
    "from dataclasses import asdict\n",
    "\n",
    "config = asdict(ConfigParams())\n",
    "for k, v in config.items():\n",
    "    print(f\"Key: {k}  -> Value: {v}\")"
   ]
  },
  {
   "cell_type": "markdown",
   "metadata": {},
   "source": [
    "#### 1. Init instance "
   ]
  },
  {
   "cell_type": "code",
   "execution_count": 17,
   "metadata": {},
   "outputs": [
    {
     "name": "stderr",
     "output_type": "stream",
     "text": [
      "INFO:lightrag:Load KV json_cache_full_docs with 0 data\n",
      "INFO:lightrag:Load KV json_cache_chunks with 0 data\n"
     ]
    }
   ],
   "source": [
    "from lightrag.kvstore import JsonKVStorage\n",
    "from tqdm.asyncio import tqdm as tqdm_async\n",
    "from lightrag.utils import compute_mdhash_id, chunking_by_token_size\n",
    "\n",
    "\n",
    "json_kv_full_docs = JsonKVStorage(\n",
    "    namespace=\"json_cache_full_docs\",\n",
    "    global_config=config,\n",
    ")\n",
    "\n",
    "\n",
    "json_kv_chunks = JsonKVStorage(\n",
    "    namespace=\"json_cache_chunks\",\n",
    "    global_config=config,\n",
    ")"
   ]
  },
  {
   "cell_type": "markdown",
   "metadata": {},
   "source": [
    "#### 2. Make some data"
   ]
  },
  {
   "cell_type": "code",
   "execution_count": 20,
   "metadata": {},
   "outputs": [
    {
     "name": "stdout",
     "output_type": "stream",
     "text": [
      "{'doc-b6c60a6063de3a72adf173d3080a87ca': {'content': 'Attack on Titan (Shingeki no Kyojin) là một bộ manga và anime nổi tiếng kể về cuộc chiến sinh tồn của loài người trong một thế giới bị bao vây bởi những Titan khổng lồ. Câu chuyện tập trung vào Eren Yeager, Mikasa Ackerman và Armin Arlert - ba người bạn thân thiết sống trong những bức tường bảo vệ. Sau khi mẹ của Eren bị Titan ăn thịt trong cuộc tấn công vào Tường Maria, họ quyết định gia nhập Binh đoàn Trinh sát để chiến đấu chống lại những Titan. Trong hành trình của mình, họ dần khám phá ra nhiều bí mật động trời về nguồn gốc của Titan, sự thật về thế giới bên ngoài những bức tường, và vai trò của những nhân vật quan trọng như Zeke Yeager, Reiner Braun, Annie Leonhart và Levi Ackerman. Đặc biệt, việc Eren phát hiện ra khả năng biến thành Titan của mình đã mở ra một bước ngoặt quan trọng trong cốt truyện, dẫn đến những xung đột phức tạp về ý thức hệ và đạo đức giữa các phe phái, đồng thời đặt ra những câu hỏi sâu sắc về tự do, công lý và cái giá của hòa bình.'}}\n"
     ]
    }
   ],
   "source": [
    "\"\"\"Make full docs\"\"\"\n",
    "\n",
    "with open(\"./testing/data/data.txt\", mode='r') as f:\n",
    "    data = [f.read()]\n",
    "\n",
    "new_docs = {\n",
    "    compute_mdhash_id(content=text.strip(), prefix=\"doc-\"): {\"content\": text.strip()}\n",
    "    for text in data\n",
    "} \n",
    "\n",
    "print(new_docs)"
   ]
  },
  {
   "cell_type": "code",
   "execution_count": 21,
   "metadata": {},
   "outputs": [
    {
     "name": "stderr",
     "output_type": "stream",
     "text": [
      "Chunking docs: 100%|██████████| 1/1 [00:00<00:00, 2081.54doc/s]"
     ]
    },
    {
     "name": "stdout",
     "output_type": "stream",
     "text": [
      "{'chunk-9e0ddc96173a640e169206d171315211': {'tokens': 20, 'content': 'Attack on Titan (Shingeki no Kyojin) là một bộ manga và anime nổi tiếng', 'chunk_order_index': 0, 'full_doc_id': 'doc-b6c60a6063de3a72adf173d3080a87ca'}, 'chunk-46c1cc0fe51c7e669da21146c0d04362': {'tokens': 20, 'content': 'manga và anime nổi tiếng kể về cuộc chiến sinh tồn của loài người trong một thế giới bị', 'chunk_order_index': 1, 'full_doc_id': 'doc-b6c60a6063de3a72adf173d3080a87ca'}, 'chunk-4aac34dd3202888cee9f909f4d865789': {'tokens': 20, 'content': 'trong một thế giới bị bao vây bởi những Titan khổng lồ. Câu chuyện tập', 'chunk_order_index': 2, 'full_doc_id': 'doc-b6c60a6063de3a72adf173d3080a87ca'}, 'chunk-5b5243a30665b4227974ff4d6e232389': {'tokens': 20, 'content': '. Câu chuyện tập trung vào Eren Yeager, Mikasa Ackerman và Armin Ar', 'chunk_order_index': 3, 'full_doc_id': 'doc-b6c60a6063de3a72adf173d3080a87ca'}, 'chunk-6d53f05e5d034df723b7cef3e59baa3a': {'tokens': 20, 'content': 'erman và Armin Arlert - ba người bạn thân thiết sống trong những bức tường', 'chunk_order_index': 4, 'full_doc_id': 'doc-b6c60a6063de3a72adf173d3080a87ca'}, 'chunk-c4461c67fc826a6c2712a32a5adeea7e': {'tokens': 20, 'content': 'những bức tường bảo vệ. Sau khi mẹ của Eren bị Titan ăn thịt trong', 'chunk_order_index': 5, 'full_doc_id': 'doc-b6c60a6063de3a72adf173d3080a87ca'}, 'chunk-da74a7ba0647a6a964ad5503617d6001': {'tokens': 20, 'content': 'Titan ăn thịt trong cuộc tấn công vào Tường Maria, họ quyết định gia nhập B', 'chunk_order_index': 6, 'full_doc_id': 'doc-b6c60a6063de3a72adf173d3080a87ca'}, 'chunk-c906bc2c10db24ee8a9ebdf93dee54c5': {'tokens': 20, 'content': 'quyết định gia nhập Binh đoàn Trinh sát để chiến đấu chống lại những Titan. Trong hành', 'chunk_order_index': 7, 'full_doc_id': 'doc-b6c60a6063de3a72adf173d3080a87ca'}, 'chunk-f864d4846a72eb3f6544bfea92f335f1': {'tokens': 20, 'content': 'những Titan. Trong hành trình của mình, họ dần khám phá ra nhiều bí mật động trời', 'chunk_order_index': 8, 'full_doc_id': 'doc-b6c60a6063de3a72adf173d3080a87ca'}, 'chunk-4b7e2eded52e9b784cddf1cfd491081a': {'tokens': 20, 'content': 'nhiều bí mật động trời về nguồn gốc của Titan, sự thật về thế giới bên ngoài những', 'chunk_order_index': 9, 'full_doc_id': 'doc-b6c60a6063de3a72adf173d3080a87ca'}, 'chunk-8500ce3f97889c0d20c368970d79bdc6': {'tokens': 20, 'content': 'thế giới bên ngoài những bức tường, và vai trò của những nhân vật quan trọng như', 'chunk_order_index': 10, 'full_doc_id': 'doc-b6c60a6063de3a72adf173d3080a87ca'}, 'chunk-bdccbff677d010b66da02dd69f1513a5': {'tokens': 20, 'content': 'nhân vật quan trọng như Zeke Yeager, Reiner Braun, Annie Leonhart và Levi Ack', 'chunk_order_index': 11, 'full_doc_id': 'doc-b6c60a6063de3a72adf173d3080a87ca'}, 'chunk-ae0dbb264d58dc2d3653d152d79f179e': {'tokens': 20, 'content': 'Leonhart và Levi Ackerman. Đặc biệt, việc Eren phát hiện ra khả năng biến', 'chunk_order_index': 12, 'full_doc_id': 'doc-b6c60a6063de3a72adf173d3080a87ca'}, 'chunk-3f6a52f60901560fe0eb72fd331de9e5': {'tokens': 20, 'content': 'hiện ra khả năng biến thành Titan của mình đã mở ra một bước ngoặt quan trọng trong c', 'chunk_order_index': 13, 'full_doc_id': 'doc-b6c60a6063de3a72adf173d3080a87ca'}, 'chunk-f35fc69f458e8baa9019ad5894ba9610': {'tokens': 20, 'content': 'ặt quan trọng trong cốt truyện, dẫn đến những xung đột phức tạp', 'chunk_order_index': 14, 'full_doc_id': 'doc-b6c60a6063de3a72adf173d3080a87ca'}, 'chunk-88f4265f7c43b5e9d8fca177646412a2': {'tokens': 20, 'content': 'ột phức tạp về ý thức hệ và đạo đức giữa các phe phái, đồng', 'chunk_order_index': 15, 'full_doc_id': 'doc-b6c60a6063de3a72adf173d3080a87ca'}, 'chunk-2a9de4e124345fc212b2b084400707d8': {'tokens': 20, 'content': 'phe phái, đồng thời đặt ra những câu hỏi sâu sắc về tự do, công lý và', 'chunk_order_index': 16, 'full_doc_id': 'doc-b6c60a6063de3a72adf173d3080a87ca'}, 'chunk-a540ad5bb26681a7d357f4d85aca8704': {'tokens': 11, 'content': 'do, công lý và cái giá của hòa bình.', 'chunk_order_index': 17, 'full_doc_id': 'doc-b6c60a6063de3a72adf173d3080a87ca'}}\n"
     ]
    },
    {
     "name": "stderr",
     "output_type": "stream",
     "text": [
      "\n"
     ]
    }
   ],
   "source": [
    "\"\"\"Make chunks data\"\"\"\n",
    "\n",
    "inserting_chunks = {}\n",
    "for doc_key, doc in tqdm_async(\n",
    "    iterable=new_docs.items(), \n",
    "    desc=\"Chunking docs\", \n",
    "    unit=\"doc\"):\n",
    "    chunks = {\n",
    "        compute_mdhash_id(content=dp['content'], prefix=\"chunk-\"): {\n",
    "            **dp, \"full_doc_id\": doc_key\n",
    "        }\n",
    "        for dp in chunking_by_token_size(\n",
    "            content=doc['content'],\n",
    "            max_token_size=20,\n",
    "            overlap_token_size=5,\n",
    "            tiktoken_model_name=config['tiktoken_model_name']\n",
    "        )\n",
    "    }\n",
    "    inserting_chunks.update(chunks)\n",
    "\n",
    "print(inserting_chunks)"
   ]
  },
  {
   "cell_type": "markdown",
   "metadata": {},
   "source": [
    "#### 3. Upsert into json_KV"
   ]
  },
  {
   "cell_type": "code",
   "execution_count": 18,
   "metadata": {},
   "outputs": [],
   "source": [
    "await json_kv_full_docs.upsert(data=new_docs)\n",
    "await json_kv_full_docs.index_done_callback()"
   ]
  },
  {
   "cell_type": "code",
   "execution_count": 19,
   "metadata": {},
   "outputs": [],
   "source": [
    "await json_kv_chunks.upsert(data=inserting_chunks)\n",
    "await json_kv_chunks.index_done_callback()"
   ]
  },
  {
   "cell_type": "code",
   "execution_count": null,
   "metadata": {},
   "outputs": [],
   "source": []
  }
 ],
 "metadata": {
  "kernelspec": {
   "display_name": "base",
   "language": "python",
   "name": "python3"
  },
  "language_info": {
   "codemirror_mode": {
    "name": "ipython",
    "version": 3
   },
   "file_extension": ".py",
   "mimetype": "text/x-python",
   "name": "python",
   "nbconvert_exporter": "python",
   "pygments_lexer": "ipython3",
   "version": "3.11.7"
  }
 },
 "nbformat": 4,
 "nbformat_minor": 2
}
