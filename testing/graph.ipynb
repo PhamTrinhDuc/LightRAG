{
 "cells": [
  {
   "cell_type": "code",
   "execution_count": null,
   "metadata": {},
   "outputs": [],
   "source": []
  },
  {
   "cell_type": "code",
   "execution_count": 1,
   "metadata": {},
   "outputs": [
    {
     "name": "stdout",
     "output_type": "stream",
     "text": [
      "/home/ducpham/Documents/LightRAG\n"
     ]
    }
   ],
   "source": [
    "%cd /home/ducpham/Documents/LightRAG\n",
    "# move to project"
   ]
  },
  {
   "cell_type": "code",
   "execution_count": null,
   "metadata": {},
   "outputs": [],
   "source": [
    "# init global config for classes \n",
    "\n",
    "from config import ConfigParams\n",
    "from dataclasses import asdict\n",
    "\n",
    "config = asdict(ConfigParams())\n",
    "for k, v in config.items():\n",
    "    print(f\"Key: {k}  -> Value: {v}\")"
   ]
  },
  {
   "cell_type": "markdown",
   "metadata": {},
   "source": [
    "### 1. NetworKX Demo"
   ]
  },
  {
   "cell_type": "code",
   "execution_count": 3,
   "metadata": {},
   "outputs": [],
   "source": [
    "from lightrag.graphstore import NetworkXStorage\n",
    "import networkx as nx"
   ]
  },
  {
   "cell_type": "markdown",
   "metadata": {},
   "source": [
    "#### 1.1 Init Network"
   ]
  },
  {
   "cell_type": "code",
   "execution_count": 4,
   "metadata": {},
   "outputs": [],
   "source": [
    "chunk_entity_relation_graph = NetworkXStorage(\n",
    "    namespace=\"Test_LightRAG\",\n",
    "    global_config=config\n",
    ")"
   ]
  },
  {
   "cell_type": "markdown",
   "metadata": {},
   "source": [
    "#### 1.2 upsert some data"
   ]
  },
  {
   "cell_type": "code",
   "execution_count": 5,
   "metadata": {},
   "outputs": [],
   "source": [
    "entity_data = [\n",
    "    {\n",
    "        \"node_id\": \"Eren\",\n",
    "        \"node_data\": {\n",
    "            \"entity_type\": \"person\",\n",
    "            \"entity_desc\": \"Eren Yeager là nhân vật chính, có khả năng biến thành Titan\",\n",
    "            \"entity_source_id\": \"1\"\n",
    "        }\n",
    "    },\n",
    "    {\n",
    "        \"node_id\": \"Mikasa\",\n",
    "        \"node_data\": {\n",
    "            \"entity_type\": \"person\",\n",
    "            \"entity_desc\": \"Mikasa là bạn của Eren và Armin, cậu được nhận nuôi bời gia đình của Eren\",\n",
    "            \"entity_source_id\": \"2\"\n",
    "        }\n",
    "    },\n",
    "    {\n",
    "        \"node_id\": \"Armin\",\n",
    "        \"node_data\": {\n",
    "            \"entity_type\": \"person\",\n",
    "            \"entity_desc\": \"Armin là một chiến lược gia tài năng, bạn thân của Eren và Mikasa\",\n",
    "            \"entity_id\": \"3\"\n",
    "        }\n",
    "    },\n",
    "    {\n",
    "        \"node_id\": \"Levi\",\n",
    "        \"node_data\": {\n",
    "            \"entity_type\": \"person\",\n",
    "            \"entity_desc\": \"Levi là đội trưởng của Đội Trinh Sát, được mệnh danh là người lính mạnh nhất của nhân loại\",\n",
    "            \"entity_source_id\": \"4\"\n",
    "        }\n",
    "    },\n",
    "    {\n",
    "        \"node_id\": \"Hange\",\n",
    "        \"node_data\": {\n",
    "            \"entity_type\": \"person\",\n",
    "            \"entity_desc\": \"Hange Zoe là một nhà khoa học thiên tài, đội trưởng của Đội Điều tra, có niềm đam mê mãnh liệt với Titan.\",\n",
    "            \"entity_source_id\": \"5\"\n",
    "        }\n",
    "    },\n",
    "    {\n",
    "        \"node_id\": \"Erwin\",\n",
    "        \"node_data\": {\n",
    "            \"entity_type\": \"person\",\n",
    "            \"entity_desc\": \"\"\"Erwin Smith là chỉ huy đời thứ 13 của Quân đoàn Trinh sát, một người lãnh đạo tài ba, thông minh và có tầm nhìn xa trông rộng. \n",
    "                            Ông là người đã dẫn dắt Quân đoàn Trinh sát đạt được nhiều thành công trong cuộc chiến chống lại Titan.\"\"\",\n",
    "            \"entity_source_id\": \"6\"\n",
    "        }\n",
    "    },\n",
    "    {\n",
    "        \"node_id\": \"Bertholdt\",\n",
    "        \"node_data\": {\n",
    "            \"entity_type\": \"person\",\n",
    "            \"entity_desc\": \"Bertholdt Hoover là một trong những người lính tinh nhuệ của Marley, đồng thời cũng là người thừa kế Titan Khổng Lồ. Anh ta có tính cách nhút nhát, hiền lành và thường xuyên bị Reiner và Annie tác động.\",\n",
    "            \"entity_source_id\": \"16\"\n",
    "        }\n",
    "    },\n",
    "    {\n",
    "        \"node_id\": \"Reiner\",\n",
    "        \"node_data\": {\n",
    "            \"entity_type\": \"person\",\n",
    "            \"entity_desc\": \"Reiner Braun là một trong những người lính tinh nhuệ của Marley, đồng thời cũng là người thừa kế Titan Thiết Giáp. Anh ta luôn cảm thấy tội lỗi vì những hành động của mình.\",\n",
    "            \"entity_source_id\": \"11\"\n",
    "        }\n",
    "    },\n",
    "    {\n",
    "        \"node_id\": \"Annie\",\n",
    "        \"node_data\": {\n",
    "            \"entity_type\": \"person\",\n",
    "            \"entity_desc\": \"Annie Leonhart là một trong những người lính tinh nhuệ của Marley, đồng thời cũng là người thừa kế Titan Nữ. Cô có tính cách lạnh lùng, ít nói và luôn đặt nhiệm vụ lên hàng đầu.\",\n",
    "            \"entity_source_id\": \"12\"\n",
    "        }\n",
    "    },\n",
    "    {\n",
    "        \"node_id\": \"Jean\",\n",
    "        \"node_data\": {\n",
    "            \"entity_type\": \"person\",\n",
    "            \"entity_desc\": \"Jean Kirschtein là một thành viên của Đội Trinh sát, ban đầu có ước mơ trở thành một sĩ quan. Anh ta có tính cách tự cao, kiêu ngạo nhưng lại rất trung thành với bạn bè. Jean luôn cố gắng thể hiện bản thân và chứng tỏ khả năng của mình.\",\n",
    "            \"entity_source_id\": \"20\"\n",
    "        }\n",
    "    },\n",
    "    {\n",
    "        \"node_id\": \"Connie\",\n",
    "        \"node_data\": {\n",
    "            \"entity_type\": \"person\",\n",
    "            \"entity_desc\": \"Connie Springer là một thành viên của Đội Trinh sát, có tính cách vui vẻ, hoạt bát và thường xuyên trêu chọc bạn bè. Dù có vẻ ngoài hài hước nhưng Connie rất dũng cảm và sẵn sàng hy sinh vì bạn bè.\",\n",
    "            \"entity_source_id\": \"21\"\n",
    "        }\n",
    "    },\n",
    "    {\n",
    "        \"node_id\": \"Sasha\",\n",
    "        \"node_data\": {\n",
    "            \"entity_type\": \"person\",\n",
    "            \"entity_desc\": \"Sasha Braus là một thành viên của Đội Trinh sát, nổi tiếng với tình yêu dành cho đồ ăn. Cô có xuất thân từ một ngôi làng nhỏ và luôn mang theo bên mình một con dao để săn bắn. Sasha là một người bạn tốt, luôn quan tâm và chia sẻ với mọi người.\",\n",
    "            \"entity_source_id\": \"22\"\n",
    "        }\n",
    "    }\n",
    "]"
   ]
  },
  {
   "cell_type": "code",
   "execution_count": 6,
   "metadata": {},
   "outputs": [],
   "source": [
    "relation_data = [\n",
    "    {\n",
    "        \"src_node_id\": \"Eren\",\n",
    "        \"tgt_node_id\": \"Mikasa\",\n",
    "        \"edge_data\": {\n",
    "            \"edge_desc\": \"Eren là bạn thân thiết của Mikasa từ nhỏ\",\n",
    "            \"edge_keyword\": \"friend\",\n",
    "            \"edge_weight\": \"10\",\n",
    "            \"edge_source_id\": \"1\"\n",
    "        }\n",
    "    },\n",
    "    {\n",
    "        \"src_node_id\": \"Eren\",\n",
    "        \"tgt_node_id\": \"Armin\",\n",
    "        \"edge_data\": {\n",
    "            \"edge_desc\": \"Eren và Armin là bạn thân từ thời thơ ấu\",\n",
    "            \"edge_keyword\": \"friend\",\n",
    "            \"edge_weight\": \"9\",\n",
    "            \"edge_source_id\": \"2\"\n",
    "        }\n",
    "    },\n",
    "    {\n",
    "        \"src_node_id\": \"Mikasa\",\n",
    "        \"tgt_node_id\": \"Armin\",\n",
    "        \"edge_data\": {\n",
    "            \"edge_desc\": \"Mikasa và Armin là bạn thân, cùng chiến đấu trong Đội Trinh Sát\",\n",
    "            \"edge_keyword\": \"friend\",\n",
    "            \"edge_weight\": \"8\",\n",
    "            \"edge_source_id\": \"3\"\n",
    "        }\n",
    "    },\n",
    "    {\n",
    "        \"src_node_id\": \"Levi\",\n",
    "        \"tgt_node_id\": \"Eren\",\n",
    "        \"edge_data\": {\n",
    "            \"edge_desc\": \"Levi là chỉ huy trực tiếp và người hướng dẫn của Eren\",\n",
    "            \"edge_keyword\": \"commander\",\n",
    "            \"edge_weight\": \"7\",\n",
    "            \"edge_source_id\": \"4\"\n",
    "        }\n",
    "    },\n",
    "    {\n",
    "        \"src_node_id\": \"Levi\",\n",
    "        \"tgt_node_id\": \"Hange\",\n",
    "        \"edge_data\": {\n",
    "            \"edge_desc\": \"Levi và Hange là đồng đội lâu năm, cùng làm việc trong Đội Trinh Sát\",\n",
    "            \"edge_keyword\": \"colleague\",\n",
    "            \"edge_weight\": \"9\",\n",
    "            \"edge_source_id\": \"5\"\n",
    "        }\n",
    "    },\n",
    "    {\n",
    "        \"src_node_id\": \"Hange\",\n",
    "        \"tgt_node_id\": \"Eren\",\n",
    "        \"edge_data\": {\n",
    "            \"edge_desc\": \"Hange rất quan tâm đến khả năng của Eren và thường xuyên nghiên cứu về Titan\",\n",
    "            \"edge_keyword\": \"researcher\",\n",
    "            \"edge_weight\": \"8\",\n",
    "            \"edge_source_id\": \"6\"\n",
    "        }\n",
    "    },\n",
    "    {\n",
    "        \"src_node_id\": \"Erwin\",\n",
    "        \"tgt_node_id\": \"Levi\",\n",
    "        \"edge_data\": {\n",
    "            \"edge_desc\": \"Erwin và Levi là đồng đội lâu năm, cùng nhau trải qua nhiều khó khăn và chiến đấu chống lại Titan.\",\n",
    "            \"edge_keyword\": \"colleague\",\n",
    "            \"edge_weight\": \"9\",\n",
    "            \"edge_source_id\": \"7\"\n",
    "        }\n",
    "    },\n",
    "    {\n",
    "        \"src_node_id\": \"Erwin\",\n",
    "        \"tgt_node_id\": \"Hange\",\n",
    "        \"edge_data\": {\n",
    "            \"edge_desc\": \"Erwin rất tin tưởng vào tài năng của Hange và thường giao cho cô những nhiệm vụ quan trọng.\",\n",
    "            \"edge_keyword\": \"commander\",\n",
    "            \"edge_weight\": \"8\",\n",
    "            \"edge_source_id\": \"8\"\n",
    "        }\n",
    "    },\n",
    "    {\n",
    "        \"src_node_id\": \"Erwin\",\n",
    "        \"tgt_node_id\": \"Eren\",\n",
    "        \"edge_data\": {\n",
    "            \"edge_desc\": \"Erwin nhìn thấy tiềm năng lớn ở Eren và tin rằng cậu sẽ trở thành một người lãnh đạo vĩ đại.\",\n",
    "            \"edge_keyword\": \"mentor\",\n",
    "            \"edge_weight\": \"7\",\n",
    "            \"edge_source_id\": \"9\"\n",
    "        }\n",
    "    },\n",
    "    {\n",
    "        \"src_node_id\": \"Reiner\",\n",
    "        \"tgt_node_id\": \"Annie\",\n",
    "        \"edge_data\": {\n",
    "            \"edge_desc\": \"Reiner và Annie là đồng đội thân thiết từ nhỏ, cùng nhau thực hiện nhiệm vụ xâm nhập đảo Paradis.\",\n",
    "            \"edge_keyword\": \"friend\",\n",
    "            \"edge_weight\": \"9\",\n",
    "            \"entity_source_id\": \"14\"\n",
    "        }\n",
    "    },\n",
    "    {\n",
    "        \"src_node_id\": \"Reiner\",\n",
    "        \"tgt_node_id\": \"Eren\",\n",
    "        \"edge_data\": {\n",
    "            \"edge_desc\": \"Reiner và Eren đã từng là bạn bè, nhưng sau đó trở thành kẻ thù khi Reiner tiết lộ thân phận thật của mình.\",\n",
    "            \"edge_keyword\": \"enemy\",\n",
    "            \"edge_weight\": \"7\",\n",
    "            \"entity_source_id\": \"15\"\n",
    "        }\n",
    "    },\n",
    "    {\n",
    "        \"src_node_id\": \"Reiner\",\n",
    "        \"tgt_node_id\": \"Bertholdt\",\n",
    "        \"edge_data\": {\n",
    "            \"edge_desc\": \"Reiner và Bertholdt là bạn thân từ nhỏ, cùng nhau thực hiện nhiệm vụ xâm nhập đảo Paradis.\",\n",
    "            \"edge_keyword\": \"friend\",\n",
    "            \"edge_weight\": \"9\",\n",
    "            \"entity_source_id\": \"17\"\n",
    "        }\n",
    "    },\n",
    "    {\n",
    "        \"src_node_id\": \"Annie\",\n",
    "        \"tgt_node_id\": \"Bertholdt\",\n",
    "        \"edge_data\": {\n",
    "            \"edge_desc\": \"Annie và Bertholdt là đồng đội, cùng nhau thực hiện nhiệm vụ xâm nhập đảo Paradis. Annie thường tỏ ra lạnh lùng với Bertholdt.\",\n",
    "            \"edge_keyword\": \"colleague\",\n",
    "            \"edge_weight\": \"8\",\n",
    "            \"entity_source_id\": \"18\"\n",
    "        }\n",
    "    },\n",
    "    {\n",
    "        \"src_node_id\": \"Jean\",\n",
    "        \"tgt_node_id\": \"Connie\",\n",
    "        \"edge_data\": {\n",
    "            \"edge_desc\": \"Jean và Connie là bạn thân từ thuở nhỏ, cùng nhau trải qua quá trình huấn luyện và chiến đấu. Mặc dù thường xuyên cãi nhau nhưng họ luôn có mặt để giúp đỡ nhau.\",\n",
    "            \"edge_keyword\": \"best_friend\",\n",
    "            \"edge_weight\": \"9\",\n",
    "            \"entity_source_id\": \"23\"\n",
    "        }\n",
    "    },\n",
    "    {\n",
    "        \"src_node_id\": \"Jean\",\n",
    "        \"tgt_node_id\": \"Sasha\",\n",
    "        \"edge_data\": {\n",
    "            \"edge_desc\": \"Jean và Sasha thường xuyên trêu chọc nhau, nhưng họ cũng rất quan tâm đến nhau. Sasha thường nấu ăn cho Jean và các thành viên khác trong đội.\",\n",
    "            \"edge_keyword\": \"friend\",\n",
    "            \"edge_weight\": \"8\",\n",
    "            \"entity_source_id\": \"24\"\n",
    "        }\n",
    "    },\n",
    "    {\n",
    "        \"src_node_id\": \"Connie\",\n",
    "        \"tgt_node_id\": \"Sasha\",\n",
    "        \"edge_data\": {\n",
    "            \"edge_desc\": \"Connie và Sasha là bạn thân, cùng nhau chia sẻ sở thích ăn uống và thường xuyên đi săn cùng nhau.\",\n",
    "            \"edge_keyword\": \"best_friend\",\n",
    "            \"edge_weight\": \"9\",\n",
    "            \"entity_source_id\": \"25\"\n",
    "        }\n",
    "    },\n",
    "    {\n",
    "        \"src_node_id\": \"Jean\",\n",
    "        \"tgt_node_id\": \"Eren\",\n",
    "        \"edge_data\": {\n",
    "            \"edge_desc\": \"Jean và Eren thường xuyên đối đầu nhưng dần trở thành đồng đội tin cậy\",\n",
    "            \"edge_keyword\": \"comrade\",\n",
    "            \"edge_weight\": \"6\",\n",
    "            \"edge_source_id\": \"5\"\n",
    "        }\n",
    "    },\n",
    "    {\n",
    "        \"src_node_id\": \"Jean\",\n",
    "        \"tgt_node_id\": \"Mikasa\",\n",
    "        \"edge_data\": {\n",
    "            \"edge_desc\": \"Jean có cảm tình đặc biệt với Mikasa từ khi còn là học viên\",\n",
    "            \"edge_keyword\": \"admirer\",\n",
    "            \"edge_weight\": \"7\",\n",
    "            \"edge_source_id\": \"6\"\n",
    "        }\n",
    "    },\n",
    "    {\n",
    "        \"src_node_id\": \"Connie\",\n",
    "        \"tgt_node_id\": \"Eren\",\n",
    "        \"edge_data\": {\n",
    "            \"edge_desc\": \"Connie là bạn đồng khóa với Eren trong Đội Trinh Sát\",\n",
    "            \"edge_keyword\": \"friend\",\n",
    "            \"edge_weight\": \"5\",\n",
    "            \"edge_source_id\": \"7\"\n",
    "        }\n",
    "    },\n",
    "    {\n",
    "        \"src_node_id\": \"Connie\",\n",
    "        \"tgt_node_id\": \"Armin\",\n",
    "        \"edge_data\": {\n",
    "            \"edge_desc\": \"Connie và Armin là bạn thân trong Đội Trinh Sát, thường hợp tác trong các nhiệm vụ\",\n",
    "            \"edge_keyword\": \"friend\",\n",
    "            \"edge_weight\": \"6\",\n",
    "            \"edge_source_id\": \"8\"\n",
    "        }\n",
    "    },\n",
    "    {\n",
    "        \"src_node_id\": \"Sasha\",\n",
    "        \"tgt_node_id\": \"Mikasa\",\n",
    "        \"edge_data\": {\n",
    "            \"edge_desc\": \"Sasha và Mikasa là bạn thân nữ trong Đội Trinh Sát\",\n",
    "            \"edge_keyword\": \"friend\",\n",
    "            \"edge_weight\": \"7\",\n",
    "            \"edge_source_id\": \"9\"\n",
    "        }\n",
    "    },\n",
    "    {\n",
    "        \"src_node_id\": \"Sasha\",\n",
    "        \"tgt_node_id\": \"Connie\",\n",
    "        \"edge_data\": {\n",
    "            \"edge_desc\": \"Sasha và Connie là cặp bạn thân, thường tạo ra những tình huống hài hước\",\n",
    "            \"edge_keyword\": \"best_friend\",\n",
    "            \"edge_weight\": \"9\",\n",
    "            \"edge_source_id\": \"10\"\n",
    "        }\n",
    "    },\n",
    "    {\n",
    "        \"src_node_id\": \"Sasha\",\n",
    "        \"tgt_node_id\": \"Armin\",\n",
    "        \"edge_data\": {\n",
    "            \"edge_desc\": \"Sasha và Armin là đồng đội thân thiết trong Đội Trinh Sát\",\n",
    "            \"edge_keyword\": \"friend\",\n",
    "            \"edge_weight\": \"6\",\n",
    "            \"edge_source_id\": \"11\"\n",
    "        }\n",
    "    }\n",
    "]"
   ]
  },
  {
   "cell_type": "code",
   "execution_count": 7,
   "metadata": {},
   "outputs": [],
   "source": [
    "import json\n",
    "\n",
    "with open(\"./testing/data/entity.json\", mode='w') as f:\n",
    "    json.dump(entity_data, f, indent=4, ensure_ascii=True)    \n",
    "\n",
    "with open(\"./testing/data/relation.json\", mode='w') as f:\n",
    "    json.dump(relation_data, f, indent=4, ensure_ascii=True)"
   ]
  },
  {
   "cell_type": "code",
   "execution_count": 8,
   "metadata": {},
   "outputs": [],
   "source": [
    "for data in entity_data:\n",
    "    await chunk_entity_relation_graph.upsert_node(\n",
    "        node_id=data[\"node_id\"],\n",
    "        node_data=data[\"node_data\"]\n",
    "    )"
   ]
  },
  {
   "cell_type": "code",
   "execution_count": 9,
   "metadata": {},
   "outputs": [],
   "source": [
    "for data in relation_data:\n",
    "    await chunk_entity_relation_graph.upsert_edge(\n",
    "        src_node_id=data[\"src_node_id\"],\n",
    "        tgt_node_id=data[\"tgt_node_id\"],\n",
    "        edge_data=data['edge_data']\n",
    "    )"
   ]
  },
  {
   "cell_type": "code",
   "execution_count": 10,
   "metadata": {},
   "outputs": [
    {
     "name": "stderr",
     "output_type": "stream",
     "text": [
      "INFO:lightrag:Writing graph with 12 nodes, 22 edges\n"
     ]
    }
   ],
   "source": [
    "chunk_entity_relation_graph.write_nx_graph(file_name=\"./testing/data/aot.graphml\", G=chunk_entity_relation_graph._graph)"
   ]
  },
  {
   "cell_type": "code",
   "execution_count": 11,
   "metadata": {},
   "outputs": [
    {
     "data": {
      "image/png": "[encoded data removed]",
      "text/plain": [
       "<Figure size 640x480 with 1 Axes>"
      ]
     },
     "metadata": {},
     "output_type": "display_data"
    }
   ],
   "source": [
    "nx.draw(G=chunk_entity_relation_graph.load_nx_graph(file_name=\"./testing/data/aot.graphml\"),\n",
    "        with_labels = True)"
   ]
  },
  {
   "cell_type": "markdown",
   "metadata": {},
   "source": [
    "#### 1.3 Get data"
   ]
  },
  {
   "cell_type": "code",
   "execution_count": 15,
   "metadata": {},
   "outputs": [
    {
     "data": {
      "text/plain": [
       "{'entity_type': 'person',\n",
       " 'entity_desc': 'Eren Yeager là nhân vật chính, có khả năng biến thành Titan',\n",
       " 'entity_source_id': '1'}"
      ]
     },
     "execution_count": 15,
     "metadata": {},
     "output_type": "execute_result"
    }
   ],
   "source": [
    "await chunk_entity_relation_graph.get_node(node_id=\"Eren\")"
   ]
  },
  {
   "cell_type": "code",
   "execution_count": 17,
   "metadata": {},
   "outputs": [
    {
     "data": {
      "text/plain": [
       "NodeView(('Eren', 'Mikasa', 'Armin', 'Levi', 'Hange', 'Erwin', 'Bertholdt', 'Reiner', 'Annie', 'Jean', 'Connie', 'Sasha'))"
      ]
     },
     "execution_count": 17,
     "metadata": {},
     "output_type": "execute_result"
    }
   ],
   "source": [
    "await chunk_entity_relation_graph.get_all_nodes()"
   ]
  },
  {
   "cell_type": "code",
   "execution_count": 18,
   "metadata": {},
   "outputs": [
    {
     "name": "stderr",
     "output_type": "stream",
     "text": [
      "/home/ducpham/Documents/LightRAG/lightrag/graphstore/networkx.py:65: RuntimeWarning: coroutine 'NetworkXStorage.has_edge' was never awaited\n",
      "  if self.has_edge(src_node_id, tgt_node_id):\n",
      "RuntimeWarning: Enable tracemalloc to get the object allocation traceback\n"
     ]
    },
    {
     "data": {
      "text/plain": [
       "{'edge_desc': 'Eren là bạn thân thiết của Mikasa từ nhỏ',\n",
       " 'edge_keyword': 'friend',\n",
       " 'edge_weight': '10',\n",
       " 'edge_source_id': '1'}"
      ]
     },
     "execution_count": 18,
     "metadata": {},
     "output_type": "execute_result"
    }
   ],
   "source": [
    "await chunk_entity_relation_graph.get_edge(src_node_id=\"Eren\", tgt_node_id=\"Mikasa\")"
   ]
  },
  {
   "cell_type": "code",
   "execution_count": 19,
   "metadata": {},
   "outputs": [
    {
     "data": {
      "text/plain": [
       "EdgeView([('Eren', 'Mikasa'), ('Eren', 'Armin'), ('Eren', 'Levi'), ('Eren', 'Hange'), ('Eren', 'Erwin'), ('Eren', 'Reiner'), ('Eren', 'Jean'), ('Eren', 'Connie'), ('Mikasa', 'Armin'), ('Mikasa', 'Jean'), ('Mikasa', 'Sasha'), ('Armin', 'Connie'), ('Armin', 'Sasha'), ('Levi', 'Hange'), ('Levi', 'Erwin'), ('Hange', 'Erwin'), ('Bertholdt', 'Reiner'), ('Bertholdt', 'Annie'), ('Reiner', 'Annie'), ('Jean', 'Connie'), ('Jean', 'Sasha'), ('Connie', 'Sasha')])"
      ]
     },
     "execution_count": 19,
     "metadata": {},
     "output_type": "execute_result"
    }
   ],
   "source": [
    "await chunk_entity_relation_graph.get_all_edges()"
   ]
  },
  {
   "cell_type": "code",
   "execution_count": null,
   "metadata": {},
   "outputs": [],
   "source": []
  }
 ],
 "metadata": {
  "kernelspec": {
   "display_name": "base",
   "language": "python",
   "name": "python3"
  },
  "language_info": {
   "codemirror_mode": {
    "name": "ipython",
    "version": 3
   },
   "file_extension": ".py",
   "mimetype": "text/x-python",
   "name": "python",
   "nbconvert_exporter": "python",
   "pygments_lexer": "ipython3",
   "version": "3.11.7"
  }
 },
 "nbformat": 4,
 "nbformat_minor": 2
}
