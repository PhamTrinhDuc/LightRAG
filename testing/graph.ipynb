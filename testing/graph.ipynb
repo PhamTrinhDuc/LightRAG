{
 "cells": [
  {
   "cell_type": "code",
   "execution_count": null,
   "metadata": {},
   "outputs": [],
   "source": []
  },
  {
   "cell_type": "code",
   "execution_count": 1,
   "metadata": {},
   "outputs": [
    {
     "name": "stdout",
     "output_type": "stream",
     "text": [
      "/home/ducpham/Documents/LightRAG\n"
     ]
    }
   ],
   "source": [
    "%cd /home/ducpham/Documents/LightRAG\n",
    "# move to project"
   ]
  },
  {
   "cell_type": "code",
   "execution_count": 2,
   "metadata": {},
   "outputs": [
    {
     "name": "stdout",
     "output_type": "stream",
     "text": [
      "Key: log_level  -> Value: 0\n",
      "Key: storage_classes  -> Value: {'JsonKVStorage': <class 'lightrag.kvstore.json_kv.JsonKVStorage'>, 'NanoVectorDBStorage': <class 'lightrag.vectorstore.nano.NanoVectorStorage'>, 'NetworkXStorage': <class 'lightrag.graphstore.networkx.NetworkXStorage'>}\n",
      "Key: working_dir  -> Value: ./lightrag_cache_2024-12-19-00:26:05\n",
      "Key: chunk_token_size  -> Value: 1200\n",
      "Key: chunk_overlap_token_size  -> Value: 200\n",
      "Key: tiktoken_model_name  -> Value: gpt-4o-mini\n",
      "Key: entity_extract_max_gleaning  -> Value: 1\n",
      "Key: entity_summary_to_max_token  -> Value: 500\n",
      "Key: node_embedding_algorithm  -> Value: node2vec\n",
      "Key: node2vec_params  -> Value: {'dimentions': 1536, 'num_walks': 10, 'walk_length': 10, 'windown_size': 2, 'iterations': 3, 'random_seed': 3}\n",
      "Key: embedding_func  -> Value: {'embedding_dim': 1536, 'max_token': 8192, 'func': <function openai_embedding at 0x7191b59c8860>, 'concurrent_limit': 16}\n",
      "Key: embedding_batch_num  -> Value: 32\n",
      "Key: embedding_func_max_async  -> Value: 16\n",
      "Key: llm_model_func  -> Value: <function openai_complete_if_cache at 0x7191b59a0b80>\n",
      "Key: llm_model_name  -> Value: meta-llama/Llama-3.2-1B-Instruct\n",
      "Key: llm_model_max_token_size  -> Value: 32768\n",
      "Key: llm_model_max_async  -> Value: 16\n",
      "Key: llm_model_kwargs  -> Value: {}\n",
      "Key: vector_db_storage_cls_kwargs  -> Value: {}\n",
      "Key: enable_llm_cache  -> Value: True\n",
      "Key: addon_params  -> Value: {}\n",
      "Key: convert_response_to_json  -> Value: <function convert_response_to_json at 0x71925b28eb60>\n"
     ]
    }
   ],
   "source": [
    "# init global config for classes \n",
    "\n",
    "from config import ConfigParams\n",
    "from dataclasses import asdict\n",
    "\n",
    "config = asdict(ConfigParams())\n",
    "for k, v in config.items():\n",
    "    print(f\"Key: {k}  -> Value: {v}\")"
   ]
  },
  {
   "cell_type": "markdown",
   "metadata": {},
   "source": [
    "### 1. NetworKX Demo"
   ]
  },
  {
   "cell_type": "code",
   "execution_count": 3,
   "metadata": {},
   "outputs": [],
   "source": [
    "from lightrag.graphstore import NetworkXStorage\n",
    "import networkx as nx"
   ]
  },
  {
   "cell_type": "markdown",
   "metadata": {},
   "source": [
    "#### 1.1 Init Network"
   ]
  },
  {
   "cell_type": "code",
   "execution_count": 4,
   "metadata": {},
   "outputs": [],
   "source": [
    "chunk_entity_relation_graph = NetworkXStorage(\n",
    "    namespace=\"Test_LightRAG\",\n",
    "    global_config=config\n",
    ")"
   ]
  },
  {
   "cell_type": "markdown",
   "metadata": {},
   "source": [
    "#### 1.2 upsert some data"
   ]
  },
  {
   "cell_type": "code",
   "execution_count": 5,
   "metadata": {},
   "outputs": [],
   "source": [
    "await chunk_entity_relation_graph.upsert_node(\n",
    "    node_id=\"Eren\",\n",
    "    node_data={\n",
    "        \"entity_type\": \"person\",\n",
    "        \"entity_desc\": \"Eren là bạn của Armin và Mikasa, cậu luôn có ước mơ được tự do\",\n",
    "        \"entity_source_id\": \"1\"\n",
    "    }\n",
    ")"
   ]
  },
  {
   "cell_type": "code",
   "execution_count": 6,
   "metadata": {},
   "outputs": [],
   "source": [
    "await chunk_entity_relation_graph.upsert_node(\n",
    "    node_id=\"Mikasa\",\n",
    "    node_data={\n",
    "        \"entity_type\": \"person\",\n",
    "        \"entity_desc\": \"Mikasa là bạn của Eren và Armin, cậu được nhận nuôi bời gia đình của Eren\",\n",
    "        \"entity_source_id\": \"1\"\n",
    "    }\n",
    ")"
   ]
  },
  {
   "cell_type": "code",
   "execution_count": 7,
   "metadata": {},
   "outputs": [],
   "source": [
    "await chunk_entity_relation_graph.upsert_node(\n",
    "    node_id=\"Armin\",\n",
    "    node_data={\n",
    "        \"entity_type\": \"person\",\n",
    "        \"entity_desc\": \"Armin là bạn của Eren và Mikasa, cậu là người tuy nhút nhát nhưng lại rất thông minh\",\n",
    "        \"entity_source_id\": \"1\"\n",
    "    }\n",
    ")"
   ]
  },
  {
   "cell_type": "code",
   "execution_count": 8,
   "metadata": {},
   "outputs": [],
   "source": [
    "await chunk_entity_relation_graph.upsert_edge(\n",
    "    src_node_id=\"Eren\",\n",
    "    tgt_node_id=\"Mikasa\",\n",
    "    edge_data={\n",
    "        \"edge_desc\": \"Eren là bạn của Mikasa\",\n",
    "        \"edge_keyword\": \"friend\",\n",
    "        \"edge_weight\": \"10\",\n",
    "        \"edge_source_id\": \"1\"\n",
    "    }\n",
    ")\n"
   ]
  },
  {
   "cell_type": "code",
   "execution_count": 9,
   "metadata": {},
   "outputs": [],
   "source": [
    "await chunk_entity_relation_graph.upsert_edge(\n",
    "    src_node_id=\"Eren\",\n",
    "    tgt_node_id=\"Armin\",\n",
    "    edge_data={\n",
    "        \"edge_desc\": \"Eren là bạn của Armin\",\n",
    "        \"edge_keyword\": \"friend\",\n",
    "        \"edge_weight\": \"9\",\n",
    "        \"edge_source_id\": \"1\"\n",
    "    }\n",
    ")\n"
   ]
  },
  {
   "cell_type": "code",
   "execution_count": 10,
   "metadata": {},
   "outputs": [],
   "source": [
    "await chunk_entity_relation_graph.upsert_edge(\n",
    "    src_node_id=\"Armin\",\n",
    "    tgt_node_id=\"Mikasa\",\n",
    "    edge_data={\n",
    "        \"edge_desc\": \"Armin là bạn của Mikasa\",\n",
    "        \"edge_keyword\": \"friend\",\n",
    "        \"edge_weight\": \"9\",\n",
    "        \"edge_source_id\": \"1\"\n",
    "    }\n",
    ")\n"
   ]
  },
  {
   "cell_type": "code",
   "execution_count": 17,
   "metadata": {},
   "outputs": [
    {
     "name": "stderr",
     "output_type": "stream",
     "text": [
      "INFO:lightrag:Writing graph with 3 nodes, 3 edges\n"
     ]
    }
   ],
   "source": [
    "chunk_entity_relation_graph.write_nx_graph(file_name=\"./testing/data/aot.graphml\", G=chunk_entity_relation_graph._graph)\n"
   ]
  },
  {
   "cell_type": "code",
   "execution_count": 20,
   "metadata": {},
   "outputs": [
    {
     "data": {
      "image/png": "[encoded data removed]",
      "text/plain": [
       "<Figure size 640x480 with 1 Axes>"
      ]
     },
     "metadata": {},
     "output_type": "display_data"
    }
   ],
   "source": [
    "nx.draw(G=chunk_entity_relation_graph.load_nx_graph(file_name=\"./testing/data/aot.graphml\"),\n",
    "        with_labels = True)"
   ]
  },
  {
   "cell_type": "markdown",
   "metadata": {},
   "source": [
    "#### 1.3 Get data"
   ]
  },
  {
   "cell_type": "code",
   "execution_count": 11,
   "metadata": {},
   "outputs": [
    {
     "data": {
      "text/plain": [
       "{'entity_type': 'person',\n",
       " 'entity_desc': 'Eren là bạn của Armin và Mikasa, cậu luôn có ước mơ được tự do',\n",
       " 'entity_source_id': '1'}"
      ]
     },
     "execution_count": 11,
     "metadata": {},
     "output_type": "execute_result"
    }
   ],
   "source": [
    "await chunk_entity_relation_graph.get_node(node_id=\"Eren\")"
   ]
  },
  {
   "cell_type": "code",
   "execution_count": 12,
   "metadata": {},
   "outputs": [
    {
     "data": {
      "text/plain": [
       "NodeView(('Eren', 'Mikasa', 'Armin'))"
      ]
     },
     "execution_count": 12,
     "metadata": {},
     "output_type": "execute_result"
    }
   ],
   "source": [
    "await chunk_entity_relation_graph.get_all_node()"
   ]
  },
  {
   "cell_type": "code",
   "execution_count": 13,
   "metadata": {},
   "outputs": [
    {
     "name": "stderr",
     "output_type": "stream",
     "text": [
      "/home/ducpham/Documents/LightRAG/lightrag/graphstore/networkx.py:65: RuntimeWarning: coroutine 'NetworkXStorage.has_edge' was never awaited\n",
      "  if self.has_edge(src_node_id, tgt_node_id):\n",
      "RuntimeWarning: Enable tracemalloc to get the object allocation traceback\n"
     ]
    },
    {
     "data": {
      "text/plain": [
       "{'edge_desc': 'Eren là bạn của Mikasa',\n",
       " 'edge_keyword': 'friend',\n",
       " 'edge_weight': '10',\n",
       " 'edge_source_id': '1'}"
      ]
     },
     "execution_count": 13,
     "metadata": {},
     "output_type": "execute_result"
    }
   ],
   "source": [
    "await chunk_entity_relation_graph.get_edge(src_node_id=\"Eren\", tgt_node_id=\"Mikasa\")"
   ]
  },
  {
   "cell_type": "code",
   "execution_count": 14,
   "metadata": {},
   "outputs": [
    {
     "data": {
      "text/plain": [
       "EdgeView([('Eren', 'Mikasa'), ('Eren', 'Armin'), ('Mikasa', 'Armin')])"
      ]
     },
     "execution_count": 14,
     "metadata": {},
     "output_type": "execute_result"
    }
   ],
   "source": [
    "await chunk_entity_relation_graph.get_all_edges()"
   ]
  },
  {
   "cell_type": "code",
   "execution_count": null,
   "metadata": {},
   "outputs": [],
   "source": []
  }
 ],
 "metadata": {
  "kernelspec": {
   "display_name": "base",
   "language": "python",
   "name": "python3"
  },
  "language_info": {
   "codemirror_mode": {
    "name": "ipython",
    "version": 3
   },
   "file_extension": ".py",
   "mimetype": "text/x-python",
   "name": "python",
   "nbconvert_exporter": "python",
   "pygments_lexer": "ipython3",
   "version": "3.11.7"
  }
 },
 "nbformat": 4,
 "nbformat_minor": 2
}
